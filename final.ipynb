{
 "cells": [
  {
   "cell_type": "code",
   "execution_count": 1,
   "metadata": {},
   "outputs": [],
   "source": [
    "import time, win32con, win32api, win32gui, ctypes\n",
    "import requests\n",
    "from bs4 import BeautifulSoup\n",
    "from apscheduler.schedulers.background import BackgroundScheduler\n",
    "from pywinauto import clipboard # 채팅창내용 가져오기 위해\n",
    "import pandas as pd # 가져온 채팅내용 DF로 쓸거라서\n",
    "from datetime import datetime"
   ]
  },
  {
   "cell_type": "code",
   "execution_count": 18,
   "metadata": {},
   "outputs": [],
   "source": [
    "# # 카톡창 이름, (활성화 상태의 열려있는 창)\n",
    "kakao_opentalk_name = '1교구 15팀 리더방'"
   ]
  },
  {
   "cell_type": "code",
   "execution_count": 3,
   "metadata": {},
   "outputs": [],
   "source": [
    "PBYTE256 = ctypes.c_ubyte * 256\n",
    "_user32 = ctypes.WinDLL(\"user32\")\n",
    "GetKeyboardState = _user32.GetKeyboardState\n",
    "SetKeyboardState = _user32.SetKeyboardState\n",
    "PostMessage = win32api.PostMessage\n",
    "SendMessage = win32gui.SendMessage\n",
    "FindWindow = win32gui.FindWindow\n",
    "IsWindow = win32gui.IsWindow\n",
    "GetCurrentThreadId = win32api.GetCurrentThreadId\n",
    "GetWindowThreadProcessId = _user32.GetWindowThreadProcessId\n",
    "AttachThreadInput = _user32.AttachThreadInput\n",
    "\n",
    "MapVirtualKeyA = _user32.MapVirtualKeyA\n",
    "MapVirtualKeyW = _user32.MapVirtualKeyW\n",
    "\n",
    "MakeLong = win32api.MAKELONG\n",
    "w = win32con"
   ]
  },
  {
   "cell_type": "code",
   "execution_count": 4,
   "metadata": {},
   "outputs": [],
   "source": [
    "# # 채팅방에 메시지 전송\n",
    "def kakao_sendtext(chatroom_name, text):\n",
    "    # # 핸들 _ 채팅방\n",
    "    hwndMain = win32gui.FindWindow( None, chatroom_name)\n",
    "    hwndEdit = win32gui.FindWindowEx( hwndMain, None, \"RichEdit20W\", None)\n",
    "\n",
    "    win32api.SendMessage(hwndEdit, win32con.WM_SETTEXT, 0, text)\n",
    "    SendReturn(hwndEdit)"
   ]
  },
  {
   "cell_type": "code",
   "execution_count": 5,
   "metadata": {},
   "outputs": [],
   "source": [
    "# # 채팅내용 가져오기\n",
    "def copy_chatroom(chatroom_name):\n",
    "    # # 핸들 _ 채팅방\n",
    "    hwndMain = win32gui.FindWindow( None, chatroom_name)\n",
    "    hwndListControl = win32gui.FindWindowEx(hwndMain, None, \"EVA_VH_ListControl_Dblclk\", None)\n",
    "\n",
    "    # #조합키, 본문을 클립보드에 복사 ( ctl + c , v )\n",
    "    PostKeyEx(hwndListControl, ord('A'), [w.VK_CONTROL], False)\n",
    "    time.sleep(1)\n",
    "    PostKeyEx(hwndListControl, ord('C'), [w.VK_CONTROL], False)\n",
    "    ctext = clipboard.GetData()\n",
    "    # print(ctext)\n",
    "    return ctext"
   ]
  },
  {
   "cell_type": "code",
   "execution_count": 6,
   "metadata": {},
   "outputs": [],
   "source": [
    "# 조합키 쓰기 위해\n",
    "def PostKeyEx(hwnd, key, shift, specialkey):\n",
    "    if IsWindow(hwnd):\n",
    "\n",
    "        ThreadId = GetWindowThreadProcessId(hwnd, None)\n",
    "\n",
    "        lparam = MakeLong(0, MapVirtualKeyA(key, 0))\n",
    "        msg_down = w.WM_KEYDOWN\n",
    "        msg_up = w.WM_KEYUP\n",
    "\n",
    "        if specialkey:\n",
    "            lparam = lparam | 0x1000000\n",
    "\n",
    "        if len(shift) > 0:\n",
    "            pKeyBuffers = PBYTE256()\n",
    "            pKeyBuffers_old = PBYTE256()\n",
    "\n",
    "            SendMessage(hwnd, w.WM_ACTIVATE, w.WA_ACTIVE, 0)\n",
    "            AttachThreadInput(GetCurrentThreadId(), ThreadId, True)\n",
    "            GetKeyboardState(ctypes.byref(pKeyBuffers_old))\n",
    "\n",
    "            for modkey in shift:\n",
    "                if modkey == w.VK_MENU:\n",
    "                    lparam = lparam | 0x20000000\n",
    "                    msg_down = w.WM_SYSKEYDOWN\n",
    "                    msg_up = w.WM_SYSKEYUP\n",
    "                pKeyBuffers[modkey] |= 128\n",
    "\n",
    "            SetKeyboardState(ctypes.byref(pKeyBuffers))\n",
    "            time.sleep(0.01)\n",
    "            PostMessage(hwnd, msg_down, key, lparam)\n",
    "            time.sleep(0.01)\n",
    "            PostMessage(hwnd, msg_up, key, lparam | 0xC0000000)\n",
    "            time.sleep(0.01)\n",
    "            SetKeyboardState(ctypes.byref(pKeyBuffers_old))\n",
    "            time.sleep(0.01)\n",
    "            AttachThreadInput(GetCurrentThreadId(), ThreadId, False)\n",
    "\n",
    "        else:\n",
    "            SendMessage(hwnd, msg_down, key, lparam)\n",
    "            SendMessage(hwnd, msg_up, key, lparam | 0xC0000000)"
   ]
  },
  {
   "cell_type": "code",
   "execution_count": 7,
   "metadata": {},
   "outputs": [],
   "source": [
    "# # 엔터\n",
    "def SendReturn(hwnd):\n",
    "    win32api.PostMessage(hwnd, win32con.WM_KEYDOWN, win32con.VK_RETURN, 0)\n",
    "    time.sleep(0.01)\n",
    "    win32api.PostMessage(hwnd, win32con.WM_KEYUP, win32con.VK_RETURN, 0)"
   ]
  },
  {
   "cell_type": "code",
   "execution_count": 8,
   "metadata": {},
   "outputs": [],
   "source": [
    "# # 채팅방 열기\n",
    "def open_chatroom(chatroom_name):\n",
    "    # # # 채팅방 목록 검색하는 Edit (채팅방이 열려있지 않아도 전송 가능하기 위하여)\n",
    "    hwndkakao = win32gui.FindWindow(None, \"카카오톡\")\n",
    "    hwndkakao_edit1 = win32gui.FindWindowEx( hwndkakao, None, \"EVA_ChildWindow\", None)\n",
    "    hwndkakao_edit2_1 = win32gui.FindWindowEx( hwndkakao_edit1, None, \"EVA_Window\", None)\n",
    "    hwndkakao_edit2_2 = win32gui.FindWindowEx( hwndkakao_edit1, hwndkakao_edit2_1, \"EVA_Window\", None)    # ㄴ시작핸들을 첫번째 자식 핸들(친구목록) 을 줌(hwndkakao_edit2_1)\n",
    "    hwndkakao_edit3 = win32gui.FindWindowEx( hwndkakao_edit2_2, None, \"Edit\", None)\n",
    "\n",
    "    # # Edit에 검색 _ 입력되어있는 텍스트가 있어도 덮어쓰기됨\n",
    "    win32api.SendMessage(hwndkakao_edit3, win32con.WM_SETTEXT, 0, chatroom_name)\n",
    "    time.sleep(1)   # 안정성 위해 필요\n",
    "    SendReturn(hwndkakao_edit3)\n",
    "    time.sleep(1)"
   ]
  },
  {
   "cell_type": "code",
   "execution_count": 9,
   "metadata": {},
   "outputs": [],
   "source": [
    "# # 채팅내용 초기 저장 _ 마지막 채팅\n",
    "def chat_last_save():\n",
    "    open_chatroom(kakao_opentalk_name)  # 채팅방 열기\n",
    "    ttext = copy_chatroom(kakao_opentalk_name)  # 채팅내용 가져오기\n",
    "\n",
    "    a = ttext.split('\\r\\n')   # \\r\\n 으로 스플릿 __ 대화내용 인용의 경우 \\r 때문에 해당안됨\n",
    "    df = pd.DataFrame(a)    # DF 으로 바꾸기\n",
    "\n",
    "    df[0] = df[0].str.replace('\\[([\\S\\s]+)\\] \\[(오전|오후)([0-9:\\s]+)\\] ', '')  # 정규식으로 채팅내용만 남기기\n",
    "\n",
    "    return df.index[-2], df.iloc[-2, 0]"
   ]
  },
  {
   "cell_type": "code",
   "execution_count": 27,
   "metadata": {},
   "outputs": [],
   "source": [
    "def makeText(day):\n",
    "    f = open(f\"{day}.txt\", 'r', encoding='utf-8')\n",
    "    data = f.read()\n",
    "    print(data)\n",
    "    f.close()\n",
    "    return data[1:]"
   ]
  },
  {
   "cell_type": "code",
   "execution_count": 28,
   "metadata": {},
   "outputs": [],
   "source": [
    "# # 채팅방 커멘드 체크\n",
    "def chat_chek_command(cls, clst):\n",
    "    open_chatroom(kakao_opentalk_name)  # 채팅방 열기\n",
    "    ttext = copy_chatroom(kakao_opentalk_name)  # 채팅내용 가져오기\n",
    "\n",
    "    a = ttext.split('\\r\\n')  # \\r\\n 으로 스플릿 __ 대화내용 인용의 경우 \\r 때문에 해당안됨\n",
    "    df = pd.DataFrame(a)  # DF 으로 바꾸기\n",
    "\n",
    "    df[0] = df[0].str.replace('\\[([\\S\\s]+)\\] \\[(오전|오후)([0-9:\\s]+)\\] ', '')  # 정규식으로 채팅내용만 남기기\n",
    "\n",
    "    if df.iloc[-2, 0] == clst:\n",
    "        print(\"채팅 없었음..\")\n",
    "        return df.index[-2], df.iloc[-2, 0]\n",
    "    else:\n",
    "        print(\"채팅 있었음\")\n",
    "\n",
    "        df1 = df.iloc[cls+1 : , 0]   # 최근 채팅내용만 남김\n",
    "        wd = datetime.now().weekday() # 오늘 요일 구하기\n",
    "        if df1.loc[cls+1]=='!월':\n",
    "            if wd==0:\n",
    "                kakao_sendtext(kakao_opentalk_name,makeText('mon'))\n",
    "            else:\n",
    "                kakao_sendtext(kakao_opentalk_name,'월요일에 공개됩니다!')\n",
    "        elif df1.loc[cls+1]=='!화':\n",
    "            if wd==1:\n",
    "                kakao_sendtext(kakao_opentalk_name,makeText('tue'))\n",
    "            else:\n",
    "                kakao_sendtext(kakao_opentalk_name,'화요일에 공개됩니다!')\n",
    "        elif df1.loc[cls+1]=='!수':\n",
    "            if wd==2:\n",
    "                kakao_sendtext(kakao_opentalk_name,makeText('wed'))\n",
    "            else:\n",
    "                kakao_sendtext(kakao_opentalk_name,'수요일에 공개됩니다!')\n",
    "        elif df1.loc[cls+1]=='!목':\n",
    "            if wd==3:\n",
    "                kakao_sendtext(kakao_opentalk_name,makeText('thur'))\n",
    "            else:\n",
    "                kakao_sendtext(kakao_opentalk_name,'목요일에 공개됩니다!')\n",
    "        elif df1.loc[cls+1]=='!금':\n",
    "            if wd==4:\n",
    "                kakao_sendtext(kakao_opentalk_name,makeText('fri'))\n",
    "            else:\n",
    "                kakao_sendtext(kakao_opentalk_name,'금요일에 공개됩니다!')\n",
    "        elif df1.loc[cls+1]=='!토':\n",
    "            if wd==5:\n",
    "                kakao_sendtext(kakao_opentalk_name,makeText('sat'))\n",
    "            else:\n",
    "                kakao_sendtext(kakao_opentalk_name,'토요일에 공개됩니다!')\n",
    "        elif df1.loc[cls+1]=='!기도시간':\n",
    "            kakao_sendtext(kakao_opentalk_name,makeText('pray'))\n",
    "            # 명령어 여러개 쓸경우 리턴값으로 각각 빼서 쓰면 될듯. 일단 테스트용으로 위에 하드코딩 해둠\n",
    "        else:\n",
    "            print(\"커멘드 미확인\")\n",
    "            return df.index[-2], df.iloc[-2, 0]\n",
    "        \n",
    "        return df.index[-2], df.iloc[-2, 0]"
   ]
  },
  {
   "cell_type": "code",
   "execution_count": 29,
   "metadata": {},
   "outputs": [],
   "source": [
    "def main():\n",
    "\n",
    "    # sched = BackgroundScheduler()\n",
    "    # sched.start()\n",
    "\n",
    "    cls, clst = chat_last_save()  # 초기설정 _ 마지막채팅 저장\n",
    "\n",
    "    # # 매 분 5초마다 job_1 실행\n",
    "    # sched.add_job(job_1, 'cron', second='*/5', id=\"test_1\")\n",
    "\n",
    "    while True:\n",
    "        print(\"실행중.................\")\n",
    "        cls, clst = chat_chek_command(cls, clst)  # 커멘드 체크\n",
    "        time.sleep(2)"
   ]
  },
  {
   "cell_type": "code",
   "execution_count": 30,
   "metadata": {},
   "outputs": [
    {
     "name": "stdout",
     "output_type": "stream",
     "text": [
      "실행중.................\n",
      "채팅 없었음..\n",
      "실행중.................\n",
      "채팅 있었음\n",
      "﻿생존위크 : 찍어야 산다!\n",
      "오늘의 미션 ✔\n",
      "[감사제목 10개 기록]\n",
      "오늘 하루를 정리하며 감사제목 10개를 하나님께 고백해봅시다.\n",
      "\n",
      "🍎 용지가 있다\n",
      "-> 용지에 적기!\n",
      "\n",
      "🍏 용지가 없다\n",
      "-> 노트 또는 핸드폰에 적기!\n",
      "\n",
      "[함께 들으면 좋은 찬양]\n",
      "https://youtu.be/7R3yMxg5ynE\n",
      "http://kko.to/B9aGxqBDp #Melon\n",
      "\n",
      "📖 범사에 감사하라 이것이 그리스도 예수 안에서 너희를 향하신 하나님 의 뜻이니라 (살전 5:18)\n",
      "실행중.................\n"
     ]
    },
    {
     "ename": "KeyboardInterrupt",
     "evalue": "",
     "output_type": "error",
     "traceback": [
      "\u001b[1;31m---------------------------------------------------------------------------\u001b[0m",
      "\u001b[1;31mKeyboardInterrupt\u001b[0m                         Traceback (most recent call last)",
      "\u001b[1;32m<ipython-input-30-c7bc734e5e35>\u001b[0m in \u001b[0;36m<module>\u001b[1;34m\u001b[0m\n\u001b[0;32m      1\u001b[0m \u001b[1;32mif\u001b[0m \u001b[0m__name__\u001b[0m \u001b[1;33m==\u001b[0m \u001b[1;34m'__main__'\u001b[0m\u001b[1;33m:\u001b[0m\u001b[1;33m\u001b[0m\u001b[1;33m\u001b[0m\u001b[0m\n\u001b[1;32m----> 2\u001b[1;33m     \u001b[0mmain\u001b[0m\u001b[1;33m(\u001b[0m\u001b[1;33m)\u001b[0m\u001b[1;33m\u001b[0m\u001b[1;33m\u001b[0m\u001b[0m\n\u001b[0m",
      "\u001b[1;32m<ipython-input-29-e24655f02039>\u001b[0m in \u001b[0;36mmain\u001b[1;34m()\u001b[0m\n\u001b[0;32m     11\u001b[0m     \u001b[1;32mwhile\u001b[0m \u001b[1;32mTrue\u001b[0m\u001b[1;33m:\u001b[0m\u001b[1;33m\u001b[0m\u001b[1;33m\u001b[0m\u001b[0m\n\u001b[0;32m     12\u001b[0m         \u001b[0mprint\u001b[0m\u001b[1;33m(\u001b[0m\u001b[1;34m\"실행중.................\"\u001b[0m\u001b[1;33m)\u001b[0m\u001b[1;33m\u001b[0m\u001b[1;33m\u001b[0m\u001b[0m\n\u001b[1;32m---> 13\u001b[1;33m         \u001b[0mcls\u001b[0m\u001b[1;33m,\u001b[0m \u001b[0mclst\u001b[0m \u001b[1;33m=\u001b[0m \u001b[0mchat_chek_command\u001b[0m\u001b[1;33m(\u001b[0m\u001b[0mcls\u001b[0m\u001b[1;33m,\u001b[0m \u001b[0mclst\u001b[0m\u001b[1;33m)\u001b[0m  \u001b[1;31m# 커멘드 체크\u001b[0m\u001b[1;33m\u001b[0m\u001b[1;33m\u001b[0m\u001b[0m\n\u001b[0m\u001b[0;32m     14\u001b[0m         \u001b[0mtime\u001b[0m\u001b[1;33m.\u001b[0m\u001b[0msleep\u001b[0m\u001b[1;33m(\u001b[0m\u001b[1;36m2\u001b[0m\u001b[1;33m)\u001b[0m\u001b[1;33m\u001b[0m\u001b[1;33m\u001b[0m\u001b[0m\n",
      "\u001b[1;32m<ipython-input-28-1ae2ef82cdef>\u001b[0m in \u001b[0;36mchat_chek_command\u001b[1;34m(cls, clst)\u001b[0m\n\u001b[0;32m      1\u001b[0m \u001b[1;31m# # 채팅방 커멘드 체크\u001b[0m\u001b[1;33m\u001b[0m\u001b[1;33m\u001b[0m\u001b[1;33m\u001b[0m\u001b[0m\n\u001b[0;32m      2\u001b[0m \u001b[1;32mdef\u001b[0m \u001b[0mchat_chek_command\u001b[0m\u001b[1;33m(\u001b[0m\u001b[0mcls\u001b[0m\u001b[1;33m,\u001b[0m \u001b[0mclst\u001b[0m\u001b[1;33m)\u001b[0m\u001b[1;33m:\u001b[0m\u001b[1;33m\u001b[0m\u001b[1;33m\u001b[0m\u001b[0m\n\u001b[1;32m----> 3\u001b[1;33m     \u001b[0mopen_chatroom\u001b[0m\u001b[1;33m(\u001b[0m\u001b[0mkakao_opentalk_name\u001b[0m\u001b[1;33m)\u001b[0m  \u001b[1;31m# 채팅방 열기\u001b[0m\u001b[1;33m\u001b[0m\u001b[1;33m\u001b[0m\u001b[0m\n\u001b[0m\u001b[0;32m      4\u001b[0m     \u001b[0mttext\u001b[0m \u001b[1;33m=\u001b[0m \u001b[0mcopy_chatroom\u001b[0m\u001b[1;33m(\u001b[0m\u001b[0mkakao_opentalk_name\u001b[0m\u001b[1;33m)\u001b[0m  \u001b[1;31m# 채팅내용 가져오기\u001b[0m\u001b[1;33m\u001b[0m\u001b[1;33m\u001b[0m\u001b[0m\n\u001b[0;32m      5\u001b[0m \u001b[1;33m\u001b[0m\u001b[0m\n",
      "\u001b[1;32m<ipython-input-8-f4c69340d032>\u001b[0m in \u001b[0;36mopen_chatroom\u001b[1;34m(chatroom_name)\u001b[0m\n\u001b[0;32m     12\u001b[0m     \u001b[0mtime\u001b[0m\u001b[1;33m.\u001b[0m\u001b[0msleep\u001b[0m\u001b[1;33m(\u001b[0m\u001b[1;36m1\u001b[0m\u001b[1;33m)\u001b[0m   \u001b[1;31m# 안정성 위해 필요\u001b[0m\u001b[1;33m\u001b[0m\u001b[1;33m\u001b[0m\u001b[0m\n\u001b[0;32m     13\u001b[0m     \u001b[0mSendReturn\u001b[0m\u001b[1;33m(\u001b[0m\u001b[0mhwndkakao_edit3\u001b[0m\u001b[1;33m)\u001b[0m\u001b[1;33m\u001b[0m\u001b[1;33m\u001b[0m\u001b[0m\n\u001b[1;32m---> 14\u001b[1;33m     \u001b[0mtime\u001b[0m\u001b[1;33m.\u001b[0m\u001b[0msleep\u001b[0m\u001b[1;33m(\u001b[0m\u001b[1;36m1\u001b[0m\u001b[1;33m)\u001b[0m\u001b[1;33m\u001b[0m\u001b[1;33m\u001b[0m\u001b[0m\n\u001b[0m",
      "\u001b[1;31mKeyboardInterrupt\u001b[0m: "
     ]
    }
   ],
   "source": [
    "if __name__ == '__main__':\n",
    "    main()"
   ]
  },
  {
   "cell_type": "code",
   "execution_count": null,
   "metadata": {},
   "outputs": [],
   "source": []
  }
 ],
 "metadata": {
  "kernelspec": {
   "display_name": "Python 3",
   "language": "python",
   "name": "python3"
  },
  "language_info": {
   "codemirror_mode": {
    "name": "ipython",
    "version": 3
   },
   "file_extension": ".py",
   "mimetype": "text/x-python",
   "name": "python",
   "nbconvert_exporter": "python",
   "pygments_lexer": "ipython3",
   "version": "3.7.3"
  }
 },
 "nbformat": 4,
 "nbformat_minor": 2
}
