{
 "cells": [
  {
   "cell_type": "code",
   "execution_count": 1,
   "metadata": {},
   "outputs": [],
   "source": [
    "import time, win32con, win32api, win32gui"
   ]
  },
  {
   "cell_type": "markdown",
   "metadata": {},
   "source": [
    "### 원하는 채팅 보내기"
   ]
  },
  {
   "cell_type": "code",
   "execution_count": 8,
   "metadata": {},
   "outputs": [],
   "source": [
    "# # 카톡창 이름 (열려있는 상태, 최소화 X, 창뒤에 숨어있는 비활성화 상태 가능)\n",
    "kakao_opentalk_name = '예배부 리더수련회'"
   ]
  },
  {
   "cell_type": "code",
   "execution_count": 14,
   "metadata": {},
   "outputs": [],
   "source": [
    "def kakao_sendtext(chatroom_name, text):\n",
    "    # # 핸들 _ 채팅방\n",
    "    hwndMain = win32gui.FindWindow( None, chatroom_name)\n",
    "    hwndEdit = win32gui.FindWindowEx( hwndMain, None, \"RichEdit20W\", None)\n",
    "    # hwndListControl = win32gui.FindWindowEx( hwndMain, None, \"EVA_VH_ListControl_Dblclk\", None)\n",
    "\n",
    "    win32api.SendMessage(hwndEdit, win32con.WM_SETTEXT, 0, text)\n",
    "    SendReturn(hwndEdit)"
   ]
  },
  {
   "cell_type": "code",
   "execution_count": 15,
   "metadata": {},
   "outputs": [],
   "source": [
    "# # 엔터\n",
    "def SendReturn(hwnd):\n",
    "    win32api.PostMessage(hwnd, win32con.WM_KEYDOWN, win32con.VK_RETURN, 0)\n",
    "    time.sleep(0.01)\n",
    "    win32api.PostMessage(hwnd, win32con.WM_KEYUP, win32con.VK_RETURN, 0)"
   ]
  },
  {
   "cell_type": "code",
   "execution_count": 16,
   "metadata": {},
   "outputs": [],
   "source": [
    "# # 채팅방 열기\n",
    "def open_chatroom(chatroom_name):\n",
    "    # # 채팅방 목록 검색하는 Edit (채팅방이 열려있지 않아도 전송 가능하기 위하여)\n",
    "    hwndkakao = win32gui.FindWindow(None, \"카카오톡\")\n",
    "    hwndkakao_edit1 = win32gui.FindWindowEx( hwndkakao, None, \"EVA_ChildWindow\", None)\n",
    "    hwndkakao_edit2_1 = win32gui.FindWindowEx( hwndkakao_edit1, None, \"EVA_Window\", None)\n",
    "    hwndkakao_edit2_2 = win32gui.FindWindowEx( hwndkakao_edit1, hwndkakao_edit2_1, \"EVA_Window\", None)\n",
    "    hwndkakao_edit3 = win32gui.FindWindowEx( hwndkakao_edit2_2, None, \"Edit\", None)\n",
    "\n",
    "    # # Edit에 검색 _ 입력되어있는 텍스트가 있어도 덮어쓰기됨\n",
    "    win32api.SendMessage(hwndkakao_edit3, win32con.WM_SETTEXT, 0, chatroom_name)\n",
    "    time.sleep(1)   # 안정성 위해 필요\n",
    "    SendReturn(hwndkakao_edit3)\n",
    "    time.sleep(1)"
   ]
  },
  {
   "cell_type": "code",
   "execution_count": 19,
   "metadata": {},
   "outputs": [],
   "source": [
    "def main():\n",
    "    open_chatroom(kakao_opentalk_name)  # 채팅방 열기\n",
    "\n",
    "    text = \"test2\"\n",
    "    kakao_sendtext(kakao_opentalk_name, text)    # 메시지 전송"
   ]
  },
  {
   "cell_type": "code",
   "execution_count": 20,
   "metadata": {},
   "outputs": [],
   "source": [
    "if __name__ == '__main__':\n",
    "    main()"
   ]
  },
  {
   "cell_type": "markdown",
   "metadata": {},
   "source": [
    "### 채팅 인식"
   ]
  },
  {
   "cell_type": "code",
   "execution_count": 22,
   "metadata": {},
   "outputs": [
    {
     "name": "stdout",
     "output_type": "stream",
     "text": [
      "Collecting pywinauto\n",
      "  Downloading https://files.pythonhosted.org/packages/ba/44/fba89cdd8330999f342f3560c779084c45b012805a53d38732edfe95f0ee/pywinauto-0.6.8-py2.py3-none-any.whl (362kB)\n",
      "Requirement already satisfied: comtypes in d:\\anaconda3\\lib\\site-packages (from pywinauto) (1.1.7)\n",
      "Requirement already satisfied: six in d:\\anaconda3\\lib\\site-packages (from pywinauto) (1.12.0)\n",
      "Requirement already satisfied: pywin32 in d:\\anaconda3\\lib\\site-packages (from pywinauto) (223)\n",
      "Installing collected packages: pywinauto\n",
      "Successfully installed pywinauto-0.6.8\n",
      "Note: you may need to restart the kernel to use updated packages.\n"
     ]
    }
   ],
   "source": [
    "pip install pywinauto"
   ]
  },
  {
   "cell_type": "code",
   "execution_count": 23,
   "metadata": {},
   "outputs": [],
   "source": [
    "import time, win32con, win32api, win32gui, ctypes\n",
    "from pywinauto import clipboard # 채팅창내용 가져오기 위해"
   ]
  },
  {
   "cell_type": "code",
   "execution_count": 24,
   "metadata": {},
   "outputs": [],
   "source": [
    "# # 카톡창 이름, (활성화 상태의 열려있는 창)\n",
    "kakao_opentalk_name = '예배부 리더수련회'\n",
    "chat_command = '실검 알려줘'  # 테스트용.."
   ]
  },
  {
   "cell_type": "code",
   "execution_count": 25,
   "metadata": {},
   "outputs": [],
   "source": [
    "PBYTE256 = ctypes.c_ubyte * 256\n",
    "_user32 = ctypes.WinDLL(\"user32\")\n",
    "GetKeyboardState = _user32.GetKeyboardState\n",
    "SetKeyboardState = _user32.SetKeyboardState\n",
    "PostMessage = win32api.PostMessage\n",
    "SendMessage = win32gui.SendMessage\n",
    "FindWindow = win32gui.FindWindow\n",
    "IsWindow = win32gui.IsWindow\n",
    "GetCurrentThreadId = win32api.GetCurrentThreadId\n",
    "GetWindowThreadProcessId = _user32.GetWindowThreadProcessId\n",
    "AttachThreadInput = _user32.AttachThreadInput\n",
    "\n",
    "MapVirtualKeyA = _user32.MapVirtualKeyA\n",
    "MapVirtualKeyW = _user32.MapVirtualKeyW\n",
    "\n",
    "MakeLong = win32api.MAKELONG\n",
    "w = win32con"
   ]
  },
  {
   "cell_type": "code",
   "execution_count": 26,
   "metadata": {},
   "outputs": [],
   "source": [
    "# 조합키 쓰기 위해\n",
    "def PostKeyEx(hwnd, key, shift, specialkey):\n",
    "    if IsWindow(hwnd):\n",
    "\n",
    "        ThreadId = GetWindowThreadProcessId(hwnd, None)\n",
    "\n",
    "        lparam = MakeLong(0, MapVirtualKeyA(key, 0))\n",
    "        msg_down = w.WM_KEYDOWN\n",
    "        msg_up = w.WM_KEYUP\n",
    "\n",
    "        if specialkey:\n",
    "            lparam = lparam | 0x1000000\n",
    "\n",
    "        if len(shift) > 0:  # Если есть модификаторы - используем PostMessage и AttachThreadInput\n",
    "            pKeyBuffers = PBYTE256()\n",
    "            pKeyBuffers_old = PBYTE256()\n",
    "\n",
    "            SendMessage(hwnd, w.WM_ACTIVATE, w.WA_ACTIVE, 0)\n",
    "            AttachThreadInput(GetCurrentThreadId(), ThreadId, True)\n",
    "            GetKeyboardState(ctypes.byref(pKeyBuffers_old))\n",
    "\n",
    "            for modkey in shift:\n",
    "                if modkey == w.VK_MENU:\n",
    "                    lparam = lparam | 0x20000000\n",
    "                    msg_down = w.WM_SYSKEYDOWN\n",
    "                    msg_up = w.WM_SYSKEYUP\n",
    "                pKeyBuffers[modkey] |= 128\n",
    "\n",
    "            SetKeyboardState(ctypes.byref(pKeyBuffers))\n",
    "            time.sleep(0.01)\n",
    "            PostMessage(hwnd, msg_down, key, lparam)\n",
    "            time.sleep(0.01)\n",
    "            PostMessage(hwnd, msg_up, key, lparam | 0xC0000000)\n",
    "            time.sleep(0.01)\n",
    "            SetKeyboardState(ctypes.byref(pKeyBuffers_old))\n",
    "            time.sleep(0.01)\n",
    "            AttachThreadInput(GetCurrentThreadId(), ThreadId, False)\n",
    "\n",
    "        else:  # Если нету модификаторов - используем SendMessage\n",
    "            SendMessage(hwnd, msg_down, key, lparam)\n",
    "            SendMessage(hwnd, msg_up, key, lparam | 0xC0000000)"
   ]
  },
  {
   "cell_type": "code",
   "execution_count": 29,
   "metadata": {},
   "outputs": [],
   "source": [
    "def main():\n",
    "\n",
    "    # # 핸들 _ 채팅방\n",
    "    hwndMain = win32gui.FindWindow( None, kakao_opentalk_name)\n",
    "    hwndListControl = win32gui.FindWindowEx(hwndMain, None, \"EVA_VH_ListControl_Dblclk\", None)\n",
    "\n",
    "    # #조합키, 본문을 클립보드에 복사 ( ctl + A , C )\n",
    "    PostKeyEx(hwndListControl, ord('A'), [w.VK_CONTROL], False)\n",
    "    time.sleep(1)\n",
    "    PostKeyEx(hwndListControl, ord('C'), [w.VK_CONTROL], False)\n",
    "    ctext = clipboard.GetData()\n",
    "    print(ctext) # 내용 확인"
   ]
  },
  {
   "cell_type": "code",
   "execution_count": 30,
   "metadata": {},
   "outputs": [
    {
     "name": "stdout",
     "output_type": "stream",
     "text": [
      "\n"
     ]
    }
   ],
   "source": [
    "if __name__ == '__main__':\n",
    "    main()"
   ]
  },
  {
   "cell_type": "markdown",
   "metadata": {},
   "source": [
    "### 최종??"
   ]
  },
  {
   "cell_type": "code",
   "execution_count": 43,
   "metadata": {},
   "outputs": [
    {
     "name": "stdout",
     "output_type": "stream",
     "text": [
      "Collecting apscheduler\n",
      "  Downloading https://files.pythonhosted.org/packages/f3/34/9ef20ed473c4fd2c3df54ef77a27ae3fc7500b16b192add4720cab8b2c09/APScheduler-3.6.3-py2.py3-none-any.whl (58kB)\n",
      "Collecting tzlocal>=1.2 (from apscheduler)\n",
      "  Downloading https://files.pythonhosted.org/packages/5d/94/d47b0fd5988e6b7059de05720a646a2930920fff247a826f61674d436ba4/tzlocal-2.1-py2.py3-none-any.whl\n",
      "Requirement already satisfied: six>=1.4.0 in d:\\anaconda3\\lib\\site-packages (from apscheduler) (1.12.0)\n",
      "Requirement already satisfied: pytz in d:\\anaconda3\\lib\\site-packages (from apscheduler) (2019.1)\n",
      "Requirement already satisfied: setuptools>=0.7 in d:\\anaconda3\\lib\\site-packages (from apscheduler) (41.0.1)\n",
      "Installing collected packages: tzlocal, apscheduler\n",
      "Successfully installed apscheduler-3.6.3 tzlocal-2.1\n",
      "Note: you may need to restart the kernel to use updated packages.\n"
     ]
    }
   ],
   "source": [
    "pip install apscheduler"
   ]
  },
  {
   "cell_type": "code",
   "execution_count": 44,
   "metadata": {},
   "outputs": [],
   "source": [
    "import time, win32con, win32api, win32gui, ctypes\n",
    "import requests\n",
    "from bs4 import BeautifulSoup\n",
    "from apscheduler.schedulers.background import BackgroundScheduler\n",
    "from pywinauto import clipboard # 채팅창내용 가져오기 위해\n",
    "import pandas as pd # 가져온 채팅내용 DF로 쓸거라서"
   ]
  },
  {
   "cell_type": "code",
   "execution_count": 32,
   "metadata": {},
   "outputs": [],
   "source": [
    "# # 카톡창 이름, (활성화 상태의 열려있는 창)\n",
    "kakao_opentalk_name = '예배부 리더수련회'\n",
    "chat_command = '실검 알려줘'  # 테스트용.."
   ]
  },
  {
   "cell_type": "code",
   "execution_count": 189,
   "metadata": {},
   "outputs": [],
   "source": [
    "macroDict={\n",
    "    'MON':'월요일',\n",
    "    'TUE':'화요일',\n",
    "    'WED':'수요일',\n",
    "    'THUR':'목요일',\n",
    "    'FRI':'금요일',\n",
    "    'SAT':'토요일'\n",
    "}"
   ]
  },
  {
   "cell_type": "code",
   "execution_count": 33,
   "metadata": {},
   "outputs": [],
   "source": [
    "PBYTE256 = ctypes.c_ubyte * 256\n",
    "_user32 = ctypes.WinDLL(\"user32\")\n",
    "GetKeyboardState = _user32.GetKeyboardState\n",
    "SetKeyboardState = _user32.SetKeyboardState\n",
    "PostMessage = win32api.PostMessage\n",
    "SendMessage = win32gui.SendMessage\n",
    "FindWindow = win32gui.FindWindow\n",
    "IsWindow = win32gui.IsWindow\n",
    "GetCurrentThreadId = win32api.GetCurrentThreadId\n",
    "GetWindowThreadProcessId = _user32.GetWindowThreadProcessId\n",
    "AttachThreadInput = _user32.AttachThreadInput\n",
    "\n",
    "MapVirtualKeyA = _user32.MapVirtualKeyA\n",
    "MapVirtualKeyW = _user32.MapVirtualKeyW\n",
    "\n",
    "MakeLong = win32api.MAKELONG\n",
    "w = win32con"
   ]
  },
  {
   "cell_type": "code",
   "execution_count": 34,
   "metadata": {},
   "outputs": [],
   "source": [
    "# # 채팅방에 메시지 전송\n",
    "def kakao_sendtext(chatroom_name, text):\n",
    "    # # 핸들 _ 채팅방\n",
    "    hwndMain = win32gui.FindWindow( None, chatroom_name)\n",
    "    hwndEdit = win32gui.FindWindowEx( hwndMain, None, \"RichEdit20W\", None)\n",
    "\n",
    "    win32api.SendMessage(hwndEdit, win32con.WM_SETTEXT, 0, text)\n",
    "    SendReturn(hwndEdit)"
   ]
  },
  {
   "cell_type": "code",
   "execution_count": 35,
   "metadata": {},
   "outputs": [],
   "source": [
    "# # 채팅내용 가져오기\n",
    "def copy_chatroom(chatroom_name):\n",
    "    # # 핸들 _ 채팅방\n",
    "    hwndMain = win32gui.FindWindow( None, chatroom_name)\n",
    "    hwndListControl = win32gui.FindWindowEx(hwndMain, None, \"EVA_VH_ListControl_Dblclk\", None)\n",
    "\n",
    "    # #조합키, 본문을 클립보드에 복사 ( ctl + c , v )\n",
    "    PostKeyEx(hwndListControl, ord('A'), [w.VK_CONTROL], False)\n",
    "    time.sleep(1)\n",
    "    PostKeyEx(hwndListControl, ord('C'), [w.VK_CONTROL], False)\n",
    "    ctext = clipboard.GetData()\n",
    "    # print(ctext)\n",
    "    return ctext"
   ]
  },
  {
   "cell_type": "code",
   "execution_count": 36,
   "metadata": {},
   "outputs": [],
   "source": [
    "# 조합키 쓰기 위해\n",
    "def PostKeyEx(hwnd, key, shift, specialkey):\n",
    "    if IsWindow(hwnd):\n",
    "\n",
    "        ThreadId = GetWindowThreadProcessId(hwnd, None)\n",
    "\n",
    "        lparam = MakeLong(0, MapVirtualKeyA(key, 0))\n",
    "        msg_down = w.WM_KEYDOWN\n",
    "        msg_up = w.WM_KEYUP\n",
    "\n",
    "        if specialkey:\n",
    "            lparam = lparam | 0x1000000\n",
    "\n",
    "        if len(shift) > 0:\n",
    "            pKeyBuffers = PBYTE256()\n",
    "            pKeyBuffers_old = PBYTE256()\n",
    "\n",
    "            SendMessage(hwnd, w.WM_ACTIVATE, w.WA_ACTIVE, 0)\n",
    "            AttachThreadInput(GetCurrentThreadId(), ThreadId, True)\n",
    "            GetKeyboardState(ctypes.byref(pKeyBuffers_old))\n",
    "\n",
    "            for modkey in shift:\n",
    "                if modkey == w.VK_MENU:\n",
    "                    lparam = lparam | 0x20000000\n",
    "                    msg_down = w.WM_SYSKEYDOWN\n",
    "                    msg_up = w.WM_SYSKEYUP\n",
    "                pKeyBuffers[modkey] |= 128\n",
    "\n",
    "            SetKeyboardState(ctypes.byref(pKeyBuffers))\n",
    "            time.sleep(0.01)\n",
    "            PostMessage(hwnd, msg_down, key, lparam)\n",
    "            time.sleep(0.01)\n",
    "            PostMessage(hwnd, msg_up, key, lparam | 0xC0000000)\n",
    "            time.sleep(0.01)\n",
    "            SetKeyboardState(ctypes.byref(pKeyBuffers_old))\n",
    "            time.sleep(0.01)\n",
    "            AttachThreadInput(GetCurrentThreadId(), ThreadId, False)\n",
    "\n",
    "        else:\n",
    "            SendMessage(hwnd, msg_down, key, lparam)\n",
    "            SendMessage(hwnd, msg_up, key, lparam | 0xC0000000)"
   ]
  },
  {
   "cell_type": "code",
   "execution_count": 37,
   "metadata": {},
   "outputs": [],
   "source": [
    "# # 엔터\n",
    "def SendReturn(hwnd):\n",
    "    win32api.PostMessage(hwnd, win32con.WM_KEYDOWN, win32con.VK_RETURN, 0)\n",
    "    time.sleep(0.01)\n",
    "    win32api.PostMessage(hwnd, win32con.WM_KEYUP, win32con.VK_RETURN, 0)"
   ]
  },
  {
   "cell_type": "code",
   "execution_count": 38,
   "metadata": {},
   "outputs": [],
   "source": [
    "# # 채팅방 열기\n",
    "def open_chatroom(chatroom_name):\n",
    "    # # # 채팅방 목록 검색하는 Edit (채팅방이 열려있지 않아도 전송 가능하기 위하여)\n",
    "    hwndkakao = win32gui.FindWindow(None, \"카카오톡\")\n",
    "    hwndkakao_edit1 = win32gui.FindWindowEx( hwndkakao, None, \"EVA_ChildWindow\", None)\n",
    "    hwndkakao_edit2_1 = win32gui.FindWindowEx( hwndkakao_edit1, None, \"EVA_Window\", None)\n",
    "    hwndkakao_edit2_2 = win32gui.FindWindowEx( hwndkakao_edit1, hwndkakao_edit2_1, \"EVA_Window\", None)    # ㄴ시작핸들을 첫번째 자식 핸들(친구목록) 을 줌(hwndkakao_edit2_1)\n",
    "    hwndkakao_edit3 = win32gui.FindWindowEx( hwndkakao_edit2_2, None, \"Edit\", None)\n",
    "\n",
    "    # # Edit에 검색 _ 입력되어있는 텍스트가 있어도 덮어쓰기됨\n",
    "    win32api.SendMessage(hwndkakao_edit3, win32con.WM_SETTEXT, 0, chatroom_name)\n",
    "    time.sleep(1)   # 안정성 위해 필요\n",
    "    SendReturn(hwndkakao_edit3)\n",
    "    time.sleep(1)"
   ]
  },
  {
   "cell_type": "code",
   "execution_count": 39,
   "metadata": {},
   "outputs": [],
   "source": [
    "# # 채팅내용 초기 저장 _ 마지막 채팅\n",
    "def chat_last_save():\n",
    "    open_chatroom(kakao_opentalk_name)  # 채팅방 열기\n",
    "    ttext = copy_chatroom(kakao_opentalk_name)  # 채팅내용 가져오기\n",
    "\n",
    "    a = ttext.split('\\r\\n')   # \\r\\n 으로 스플릿 __ 대화내용 인용의 경우 \\r 때문에 해당안됨\n",
    "    df = pd.DataFrame(a)    # DF 으로 바꾸기\n",
    "\n",
    "    df[0] = df[0].str.replace('\\[([\\S\\s]+)\\] \\[(오전|오후)([0-9:\\s]+)\\] ', '')  # 정규식으로 채팅내용만 남기기\n",
    "\n",
    "    return df.index[-2], df.iloc[-2, 0]"
   ]
  },
  {
   "cell_type": "code",
   "execution_count": 176,
   "metadata": {},
   "outputs": [],
   "source": [
    "# # 채팅방 커멘드 체크\n",
    "def chat_chek_command(cls, clst):\n",
    "    open_chatroom(kakao_opentalk_name)  # 채팅방 열기\n",
    "    ttext = copy_chatroom(kakao_opentalk_name)  # 채팅내용 가져오기\n",
    "\n",
    "    a = ttext.split('\\r\\n')  # \\r\\n 으로 스플릿 __ 대화내용 인용의 경우 \\r 때문에 해당안됨\n",
    "    df = pd.DataFrame(a)  # DF 으로 바꾸기\n",
    "\n",
    "    df[0] = df[0].str.replace('\\[([\\S\\s]+)\\] \\[(오전|오후)([0-9:\\s]+)\\] ', '')  # 정규식으로 채팅내용만 남기기\n",
    "\n",
    "    if df.iloc[-2, 0] == clst:\n",
    "        print(\"채팅 없었음..\")\n",
    "        return df.index[-2], df.iloc[-2, 0]\n",
    "    else:\n",
    "        print(\"채팅 있었음\")\n",
    "\n",
    "        df1 = df.iloc[cls+1 : , 0]   # 최근 채팅내용만 남김\n",
    "#         print(cls)\n",
    "#         print(df1)\n",
    "#         if df1.loc[cls+1]=='1':\n",
    "#             kakao_sendtext(kakao_opentalk_name,'11111')\n",
    "#         found = df1[ df1.str.contains(chat_command) ]    # 챗 카운트\n",
    "#         if 1 <= int(found.count()):\n",
    "#             print(\"-------커멘드 확인!\")\n",
    "#             p_time_ymd_hms = \\\n",
    "#                 f\"{time.localtime().tm_year}-{time.localtime().tm_mon}-{time.localtime().tm_mday} / \" \\\n",
    "#                 f\"{time.localtime().tm_hour}:{time.localtime().tm_min}:{time.localtime().tm_sec}\"\n",
    "#             realtimeList = naver_realtimeList()  # 네이버 실시간 검색어 상위 20개\n",
    "#             kakao_sendtext(kakao_opentalk_name, f\"{p_time_ymd_hms}\\n{realtimeList}\")  # 메시지 전송, time/실검\n",
    "#             myList = myFunc()  \n",
    "#             kakao_sendtext(kakao_opentalk_name,f\"{myList}\")\n",
    "            # 명령어 여러개 쓸경우 리턴값으로 각각 빼서 쓰면 될듯. 일단 테스트용으로 위에 하드코딩 해둠\n",
    "            return df.index[-2], df.iloc[-2, 0]\n",
    "\n",
    "        else:\n",
    "            print(\"커멘드 미확인\")\n",
    "            return df.index[-2], df.iloc[-2, 0]"
   ]
  },
  {
   "cell_type": "code",
   "execution_count": 177,
   "metadata": {},
   "outputs": [],
   "source": [
    "# # 네이버 실검 상위 20개, 리턴\n",
    "def naver_realtimeList():\n",
    "    headers = {'User-Agent':'Mozilla/5.0 (Windows NT 6.3; Win64; x64) AppleWebKit/537.36 (KHTML, like Gecko) Chrome/63.0.3239.132 Safari/537.36'}\n",
    "\n",
    "    url = 'https://datalab.naver.com/keyword/realtimeList.naver?where=main'\n",
    "    res = requests.get(url, headers = headers)\n",
    "    soup = BeautifulSoup(res.content, 'html.parser')\n",
    "    data = soup.findAll('span','item_title')\n",
    "\n",
    "    a = []\n",
    "    for item in data:\n",
    "        a.append(item.get_text())\n",
    "\n",
    "    s = \"\\n\".join(a)\n",
    "    return s"
   ]
  },
  {
   "cell_type": "code",
   "execution_count": 178,
   "metadata": {},
   "outputs": [],
   "source": [
    "# # 스케줄러 job_1\n",
    "def job_1():\n",
    "    p_time_ymd_hms = \\\n",
    "        f\"{time.localtime().tm_year}-{time.localtime().tm_mon}-{time.localtime().tm_mday} / \" \\\n",
    "        f\"{time.localtime().tm_hour}:{time.localtime().tm_min}:{time.localtime().tm_sec}\"\n",
    "\n",
    "    open_chatroom(kakao_opentalk_name)  # 채팅방 열기\n",
    "    realtimeList = naver_realtimeList()  # 네이버 실시간 검색어 상위 20개\n",
    "    kakao_sendtext(kakao_opentalk_name, f\"{p_time_ymd_hms}\\n{realtimeList}\")  # 메시지 전송, time/실검"
   ]
  },
  {
   "cell_type": "code",
   "execution_count": 199,
   "metadata": {},
   "outputs": [],
   "source": [
    "# # 채팅방 커멘드 체크\n",
    "def chat_chek_command(cls, clst):\n",
    "    open_chatroom(kakao_opentalk_name)  # 채팅방 열기\n",
    "    ttext = copy_chatroom(kakao_opentalk_name)  # 채팅내용 가져오기\n",
    "\n",
    "    a = ttext.split('\\r\\n')  # \\r\\n 으로 스플릿 __ 대화내용 인용의 경우 \\r 때문에 해당안됨\n",
    "    df = pd.DataFrame(a)  # DF 으로 바꾸기\n",
    "\n",
    "    df[0] = df[0].str.replace('\\[([\\S\\s]+)\\] \\[(오전|오후)([0-9:\\s]+)\\] ', '')  # 정규식으로 채팅내용만 남기기\n",
    "\n",
    "    if df.iloc[-2, 0] == clst:\n",
    "        print(\"채팅 없었음..\")\n",
    "        return df.index[-2], df.iloc[-2, 0]\n",
    "    else:\n",
    "        print(\"채팅 있었음\")\n",
    "\n",
    "        df1 = df.iloc[cls+1 : , 0]   # 최근 채팅내용만 남김\n",
    "#         print(df1.loc[cls+1])\n",
    "        if df1.loc[cls+1]=='!월':\n",
    "            kakao_sendtext(kakao_opentalk_name,macroDict['MON'])\n",
    "        elif df1.loc[cls+1]=='!화':\n",
    "            kakao_sendtext(kakao_opentalk_name,macroDict['TUE'])\n",
    "        elif df1.loc[cls+1]=='!수':\n",
    "            kakao_sendtext(kakao_opentalk_name,macroDict['WED'])\n",
    "        elif df1.loc[cls+1]=='!목':\n",
    "            kakao_sendtext(kakao_opentalk_name,macroDict['THUR'])\n",
    "        elif df1.loc[cls+1]=='!금':\n",
    "            kakao_sendtext(kakao_opentalk_name,macroDict['FRI'])\n",
    "        elif df1.loc[cls+1]=='!토':\n",
    "            kakao_sendtext(kakao_opentalk_name,macroDict['SAT'])\n",
    "            # 명령어 여러개 쓸경우 리턴값으로 각각 빼서 쓰면 될듯. 일단 테스트용으로 위에 하드코딩 해둠\n",
    "        else:\n",
    "            print(\"커멘드 미확인\")\n",
    "            return df.index[-2], df.iloc[-2, 0]\n",
    "        \n",
    "        return df.index[-2], df.iloc[-2, 0]\n",
    "\n",
    "        "
   ]
  },
  {
   "cell_type": "code",
   "execution_count": 200,
   "metadata": {},
   "outputs": [],
   "source": [
    "def main():\n",
    "\n",
    "    # sched = BackgroundScheduler()\n",
    "    # sched.start()\n",
    "\n",
    "    cls, clst = chat_last_save()  # 초기설정 _ 마지막채팅 저장\n",
    "\n",
    "    # # 매 분 5초마다 job_1 실행\n",
    "    # sched.add_job(job_1, 'cron', second='*/5', id=\"test_1\")\n",
    "\n",
    "    while True:\n",
    "        print(\"실행중.................\")\n",
    "        cls, clst = chat_chek_command(cls, clst)  # 커멘드 체크\n",
    "        time.sleep(5)"
   ]
  },
  {
   "cell_type": "code",
   "execution_count": 201,
   "metadata": {},
   "outputs": [
    {
     "name": "stdout",
     "output_type": "stream",
     "text": [
      "실행중.................\n",
      "채팅 없었음..\n",
      "실행중.................\n",
      "채팅 있었음\n",
      "!목\n",
      "실행중.................\n"
     ]
    },
    {
     "ename": "KeyboardInterrupt",
     "evalue": "",
     "output_type": "error",
     "traceback": [
      "\u001b[1;31m---------------------------------------------------------------------------\u001b[0m",
      "\u001b[1;31mKeyboardInterrupt\u001b[0m                         Traceback (most recent call last)",
      "\u001b[1;32m<ipython-input-201-c7bc734e5e35>\u001b[0m in \u001b[0;36m<module>\u001b[1;34m\u001b[0m\n\u001b[0;32m      1\u001b[0m \u001b[1;32mif\u001b[0m \u001b[0m__name__\u001b[0m \u001b[1;33m==\u001b[0m \u001b[1;34m'__main__'\u001b[0m\u001b[1;33m:\u001b[0m\u001b[1;33m\u001b[0m\u001b[1;33m\u001b[0m\u001b[0m\n\u001b[1;32m----> 2\u001b[1;33m     \u001b[0mmain\u001b[0m\u001b[1;33m(\u001b[0m\u001b[1;33m)\u001b[0m\u001b[1;33m\u001b[0m\u001b[1;33m\u001b[0m\u001b[0m\n\u001b[0m",
      "\u001b[1;32m<ipython-input-200-98adbf77d751>\u001b[0m in \u001b[0;36mmain\u001b[1;34m()\u001b[0m\n\u001b[0;32m     11\u001b[0m     \u001b[1;32mwhile\u001b[0m \u001b[1;32mTrue\u001b[0m\u001b[1;33m:\u001b[0m\u001b[1;33m\u001b[0m\u001b[1;33m\u001b[0m\u001b[0m\n\u001b[0;32m     12\u001b[0m         \u001b[0mprint\u001b[0m\u001b[1;33m(\u001b[0m\u001b[1;34m\"실행중.................\"\u001b[0m\u001b[1;33m)\u001b[0m\u001b[1;33m\u001b[0m\u001b[1;33m\u001b[0m\u001b[0m\n\u001b[1;32m---> 13\u001b[1;33m         \u001b[0mcls\u001b[0m\u001b[1;33m,\u001b[0m \u001b[0mclst\u001b[0m \u001b[1;33m=\u001b[0m \u001b[0mchat_chek_command\u001b[0m\u001b[1;33m(\u001b[0m\u001b[0mcls\u001b[0m\u001b[1;33m,\u001b[0m \u001b[0mclst\u001b[0m\u001b[1;33m)\u001b[0m  \u001b[1;31m# 커멘드 체크\u001b[0m\u001b[1;33m\u001b[0m\u001b[1;33m\u001b[0m\u001b[0m\n\u001b[0m\u001b[0;32m     14\u001b[0m         \u001b[0mtime\u001b[0m\u001b[1;33m.\u001b[0m\u001b[0msleep\u001b[0m\u001b[1;33m(\u001b[0m\u001b[1;36m5\u001b[0m\u001b[1;33m)\u001b[0m\u001b[1;33m\u001b[0m\u001b[1;33m\u001b[0m\u001b[0m\n",
      "\u001b[1;32m<ipython-input-199-6bebd443814e>\u001b[0m in \u001b[0;36mchat_chek_command\u001b[1;34m(cls, clst)\u001b[0m\n\u001b[0;32m      1\u001b[0m \u001b[1;31m# # 채팅방 커멘드 체크\u001b[0m\u001b[1;33m\u001b[0m\u001b[1;33m\u001b[0m\u001b[1;33m\u001b[0m\u001b[0m\n\u001b[0;32m      2\u001b[0m \u001b[1;32mdef\u001b[0m \u001b[0mchat_chek_command\u001b[0m\u001b[1;33m(\u001b[0m\u001b[0mcls\u001b[0m\u001b[1;33m,\u001b[0m \u001b[0mclst\u001b[0m\u001b[1;33m)\u001b[0m\u001b[1;33m:\u001b[0m\u001b[1;33m\u001b[0m\u001b[1;33m\u001b[0m\u001b[0m\n\u001b[1;32m----> 3\u001b[1;33m     \u001b[0mopen_chatroom\u001b[0m\u001b[1;33m(\u001b[0m\u001b[0mkakao_opentalk_name\u001b[0m\u001b[1;33m)\u001b[0m  \u001b[1;31m# 채팅방 열기\u001b[0m\u001b[1;33m\u001b[0m\u001b[1;33m\u001b[0m\u001b[0m\n\u001b[0m\u001b[0;32m      4\u001b[0m     \u001b[0mttext\u001b[0m \u001b[1;33m=\u001b[0m \u001b[0mcopy_chatroom\u001b[0m\u001b[1;33m(\u001b[0m\u001b[0mkakao_opentalk_name\u001b[0m\u001b[1;33m)\u001b[0m  \u001b[1;31m# 채팅내용 가져오기\u001b[0m\u001b[1;33m\u001b[0m\u001b[1;33m\u001b[0m\u001b[0m\n\u001b[0;32m      5\u001b[0m \u001b[1;33m\u001b[0m\u001b[0m\n",
      "\u001b[1;32m<ipython-input-38-f4c69340d032>\u001b[0m in \u001b[0;36mopen_chatroom\u001b[1;34m(chatroom_name)\u001b[0m\n\u001b[0;32m     10\u001b[0m     \u001b[1;31m# # Edit에 검색 _ 입력되어있는 텍스트가 있어도 덮어쓰기됨\u001b[0m\u001b[1;33m\u001b[0m\u001b[1;33m\u001b[0m\u001b[1;33m\u001b[0m\u001b[0m\n\u001b[0;32m     11\u001b[0m     \u001b[0mwin32api\u001b[0m\u001b[1;33m.\u001b[0m\u001b[0mSendMessage\u001b[0m\u001b[1;33m(\u001b[0m\u001b[0mhwndkakao_edit3\u001b[0m\u001b[1;33m,\u001b[0m \u001b[0mwin32con\u001b[0m\u001b[1;33m.\u001b[0m\u001b[0mWM_SETTEXT\u001b[0m\u001b[1;33m,\u001b[0m \u001b[1;36m0\u001b[0m\u001b[1;33m,\u001b[0m \u001b[0mchatroom_name\u001b[0m\u001b[1;33m)\u001b[0m\u001b[1;33m\u001b[0m\u001b[1;33m\u001b[0m\u001b[0m\n\u001b[1;32m---> 12\u001b[1;33m     \u001b[0mtime\u001b[0m\u001b[1;33m.\u001b[0m\u001b[0msleep\u001b[0m\u001b[1;33m(\u001b[0m\u001b[1;36m1\u001b[0m\u001b[1;33m)\u001b[0m   \u001b[1;31m# 안정성 위해 필요\u001b[0m\u001b[1;33m\u001b[0m\u001b[1;33m\u001b[0m\u001b[0m\n\u001b[0m\u001b[0;32m     13\u001b[0m     \u001b[0mSendReturn\u001b[0m\u001b[1;33m(\u001b[0m\u001b[0mhwndkakao_edit3\u001b[0m\u001b[1;33m)\u001b[0m\u001b[1;33m\u001b[0m\u001b[1;33m\u001b[0m\u001b[0m\n\u001b[0;32m     14\u001b[0m     \u001b[0mtime\u001b[0m\u001b[1;33m.\u001b[0m\u001b[0msleep\u001b[0m\u001b[1;33m(\u001b[0m\u001b[1;36m1\u001b[0m\u001b[1;33m)\u001b[0m\u001b[1;33m\u001b[0m\u001b[1;33m\u001b[0m\u001b[0m\n",
      "\u001b[1;31mKeyboardInterrupt\u001b[0m: "
     ]
    }
   ],
   "source": [
    "if __name__ == '__main__':\n",
    "    main()"
   ]
  },
  {
   "cell_type": "code",
   "execution_count": null,
   "metadata": {},
   "outputs": [],
   "source": [
    "df1=pd.DataFrame({0:[3,4,5,6],1:[1,2,3,4]}\n",
    "                )"
   ]
  },
  {
   "cell_type": "code",
   "execution_count": 138,
   "metadata": {},
   "outputs": [
    {
     "data": {
      "text/html": [
       "<div>\n",
       "<style scoped>\n",
       "    .dataframe tbody tr th:only-of-type {\n",
       "        vertical-align: middle;\n",
       "    }\n",
       "\n",
       "    .dataframe tbody tr th {\n",
       "        vertical-align: top;\n",
       "    }\n",
       "\n",
       "    .dataframe thead th {\n",
       "        text-align: right;\n",
       "    }\n",
       "</style>\n",
       "<table border=\"1\" class=\"dataframe\">\n",
       "  <thead>\n",
       "    <tr style=\"text-align: right;\">\n",
       "      <th></th>\n",
       "      <th>0</th>\n",
       "      <th>1</th>\n",
       "    </tr>\n",
       "  </thead>\n",
       "  <tbody>\n",
       "    <tr>\n",
       "      <th>0</th>\n",
       "      <td>3</td>\n",
       "      <td>1</td>\n",
       "    </tr>\n",
       "    <tr>\n",
       "      <th>1</th>\n",
       "      <td>4</td>\n",
       "      <td>2</td>\n",
       "    </tr>\n",
       "    <tr>\n",
       "      <th>2</th>\n",
       "      <td>5</td>\n",
       "      <td>3</td>\n",
       "    </tr>\n",
       "    <tr>\n",
       "      <th>3</th>\n",
       "      <td>6</td>\n",
       "      <td>4</td>\n",
       "    </tr>\n",
       "  </tbody>\n",
       "</table>\n",
       "</div>"
      ],
      "text/plain": [
       "   0  1\n",
       "0  3  1\n",
       "1  4  2\n",
       "2  5  3\n",
       "3  6  4"
      ]
     },
     "execution_count": 138,
     "metadata": {},
     "output_type": "execute_result"
    }
   ],
   "source": [
    "df1"
   ]
  },
  {
   "cell_type": "code",
   "execution_count": 139,
   "metadata": {},
   "outputs": [
    {
     "name": "stdout",
     "output_type": "stream",
     "text": [
      "   0  1\n",
      "0  3  1\n",
      "1  4  2\n",
      "2  5  3\n",
      "3  6  4\n"
     ]
    }
   ],
   "source": [
    "print(df1)"
   ]
  },
  {
   "cell_type": "code",
   "execution_count": 144,
   "metadata": {},
   "outputs": [
    {
     "data": {
      "text/plain": [
       "0    3\n",
       "1    4\n",
       "2    5\n",
       "3    6\n",
       "Name: 0, dtype: int64"
      ]
     },
     "execution_count": 144,
     "metadata": {},
     "output_type": "execute_result"
    }
   ],
   "source": [
    "df1[0]"
   ]
  },
  {
   "cell_type": "code",
   "execution_count": 146,
   "metadata": {},
   "outputs": [
    {
     "name": "stdout",
     "output_type": "stream",
     "text": [
      "<pandas.core.indexing._LocIndexer object at 0x00000017F69E7F98>\n"
     ]
    }
   ],
   "source": [
    "print(df1.loc)"
   ]
  },
  {
   "cell_type": "code",
   "execution_count": 154,
   "metadata": {},
   "outputs": [
    {
     "data": {
      "text/plain": [
       "0    3\n",
       "1    1\n",
       "Name: 0, dtype: int64"
      ]
     },
     "execution_count": 154,
     "metadata": {},
     "output_type": "execute_result"
    }
   ],
   "source": [
    "df1.loc[0]"
   ]
  },
  {
   "cell_type": "code",
   "execution_count": 148,
   "metadata": {
    "scrolled": true
   },
   "outputs": [
    {
     "data": {
      "text/plain": [
       "3"
      ]
     },
     "execution_count": 148,
     "metadata": {},
     "output_type": "execute_result"
    }
   ],
   "source": [
    "df1.loc[0,0]"
   ]
  },
  {
   "cell_type": "code",
   "execution_count": null,
   "metadata": {},
   "outputs": [],
   "source": []
  }
 ],
 "metadata": {
  "kernelspec": {
   "display_name": "Python 3",
   "language": "python",
   "name": "python3"
  },
  "language_info": {
   "codemirror_mode": {
    "name": "ipython",
    "version": 3
   },
   "file_extension": ".py",
   "mimetype": "text/x-python",
   "name": "python",
   "nbconvert_exporter": "python",
   "pygments_lexer": "ipython3",
   "version": "3.7.3"
  }
 },
 "nbformat": 4,
 "nbformat_minor": 2
}
